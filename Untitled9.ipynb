{
 "cells": [
  {
   "cell_type": "code",
   "execution_count": 5,
   "id": "a19e6cce",
   "metadata": {},
   "outputs": [],
   "source": [
    "%gui"
   ]
  },
  {
   "cell_type": "code",
   "execution_count": 629,
   "id": "0d0b4a58",
   "metadata": {},
   "outputs": [],
   "source": [
    "import pandas as pd\n",
    "import datetime\n",
    "import itertools\n",
    "\n",
    "import numpy as np\n",
    "import statistics \n",
    "import re\n",
    "import re \n",
    "import string\n",
    "from scipy.stats import skew, mode\n",
    "from itertools import product\n",
    "import matplotlib.pyplot as plt\n",
    "from IPython.core import display as ICD"
   ]
  },
  {
   "cell_type": "code",
   "execution_count": 631,
   "id": "6ef13c26",
   "metadata": {},
   "outputs": [],
   "source": [
    "df1 = pd.read_excel(\"/Users/admin/Downloads/test_data_2022.xlsx\")"
   ]
  },
  {
   "cell_type": "code",
   "execution_count": 632,
   "id": "85e16d64",
   "metadata": {},
   "outputs": [],
   "source": [
    "df2 = df1.copy()"
   ]
  },
  {
   "cell_type": "markdown",
   "id": "e29f8733",
   "metadata": {},
   "source": [
    "# Подготовка датасета"
   ]
  },
  {
   "cell_type": "markdown",
   "id": "7eac3500",
   "metadata": {},
   "source": [
    "## Отчистка icd_code"
   ]
  },
  {
   "cell_type": "code",
   "execution_count": 633,
   "id": "884fba18",
   "metadata": {},
   "outputs": [],
   "source": [
    "df2[\"icd_code\"] = df2[\"icd_code\"].astype(str)"
   ]
  },
  {
   "cell_type": "code",
   "execution_count": 634,
   "id": "65e51378",
   "metadata": {},
   "outputs": [],
   "source": [
    "df2[\"index1\"] = df2.index"
   ]
  },
  {
   "cell_type": "code",
   "execution_count": 635,
   "id": "b5574f7b",
   "metadata": {},
   "outputs": [],
   "source": [
    "df2 = df2.loc[df2[\"icd_code\"] != \"nan\"]"
   ]
  },
  {
   "cell_type": "markdown",
   "id": "df522ae1",
   "metadata": {},
   "source": [
    "### Меняем значения, относительно формата: X00.0"
   ]
  },
  {
   "cell_type": "markdown",
   "id": "4c92db09",
   "metadata": {},
   "source": [
    "#### Значения типа X00"
   ]
  },
  {
   "cell_type": "code",
   "execution_count": 636,
   "id": "0305e44b",
   "metadata": {},
   "outputs": [],
   "source": [
    "special_cases = re.sub(r'([А-ЯA-Z]{1}[0-9]{2})(\\',)', r'\\1.0\\2', str(list(df2[\"icd_code\"])))"
   ]
  },
  {
   "cell_type": "markdown",
   "id": "fbdc48ac",
   "metadata": {},
   "source": [
    "#### Значения типа X00.00"
   ]
  },
  {
   "cell_type": "code",
   "execution_count": 637,
   "id": "e5e1e42d",
   "metadata": {},
   "outputs": [],
   "source": [
    "special_cases = re.sub(r'([А-ЯA-Z]{1}[0-9]{2}\\.)(\\d)(.)', r'\\1\\2', special_cases)"
   ]
  },
  {
   "cell_type": "code",
   "execution_count": 638,
   "id": "fd460185",
   "metadata": {},
   "outputs": [],
   "source": [
    "special_cases = re.sub(r'[\\[\\]\\']', r'', special_cases)"
   ]
  },
  {
   "cell_type": "code",
   "execution_count": 639,
   "id": "638751c3",
   "metadata": {},
   "outputs": [],
   "source": [
    "special_cases = special_cases.split(\", \")"
   ]
  },
  {
   "cell_type": "code",
   "execution_count": 640,
   "id": "01385179",
   "metadata": {},
   "outputs": [],
   "source": [
    "df2[\"icd_code\"] = special_cases"
   ]
  },
  {
   "cell_type": "markdown",
   "id": "1c77698f",
   "metadata": {},
   "source": [
    "### Приводим данные к одному виду"
   ]
  },
  {
   "cell_type": "markdown",
   "id": "b9341f5d",
   "metadata": {},
   "source": [
    "#### Используем индекс таблицы для объединения колонки с частными заменами и колонки с общей формой"
   ]
  },
  {
   "cell_type": "code",
   "execution_count": 641,
   "id": "edd9b1ca",
   "metadata": {},
   "outputs": [],
   "source": [
    "df2[\"icd_code_format\"] = df2[\"icd_code\"] + \"lll\" +  df2[\"index1\"].astype(str)"
   ]
  },
  {
   "cell_type": "code",
   "execution_count": 642,
   "id": "11fbf5be",
   "metadata": {},
   "outputs": [],
   "source": [
    "step1 = re.findall(r'([А-ЯA-Z]{1}\\d+.\\d{1})(lll(\\d+))', str(list(df2[\"icd_code_format\"])))"
   ]
  },
  {
   "cell_type": "code",
   "execution_count": 643,
   "id": "77e32840",
   "metadata": {},
   "outputs": [],
   "source": [
    "step2 = re.findall(r'([А-ЯA-Z]{1}\\d+.\\d{1})', str(step1))"
   ]
  },
  {
   "cell_type": "code",
   "execution_count": 644,
   "id": "839d3975",
   "metadata": {},
   "outputs": [],
   "source": [
    "step3 = re.findall(r'lll(\\d+)', str(step1))"
   ]
  },
  {
   "cell_type": "code",
   "execution_count": 645,
   "id": "c68ae31c",
   "metadata": {},
   "outputs": [],
   "source": [
    "good_values = pd.DataFrame({\"value_icd_code\" : step2, \"index1\" : step3})"
   ]
  },
  {
   "cell_type": "code",
   "execution_count": 646,
   "id": "fd37e9b6",
   "metadata": {},
   "outputs": [],
   "source": [
    "good_values[\"index1\"] = good_values[\"index1\"].astype(int)"
   ]
  },
  {
   "cell_type": "code",
   "execution_count": 647,
   "id": "9e069d1e",
   "metadata": {},
   "outputs": [],
   "source": [
    "df_2_3_full = df2.merge(good_values,left_on='index1', right_on='index1', how = (\"outer\"))"
   ]
  },
  {
   "cell_type": "code",
   "execution_count": 648,
   "id": "138bce0c",
   "metadata": {},
   "outputs": [],
   "source": [
    "df_2_3 = df_2_3_full[[\"icd_code\",\"value_icd_code\"]]"
   ]
  },
  {
   "cell_type": "code",
   "execution_count": 649,
   "id": "945a61a9",
   "metadata": {},
   "outputs": [],
   "source": [
    "del_icd_code =  df_2_3.loc[df_2_3[\"value_icd_code\"].isnull()][\"icd_code\"]"
   ]
  },
  {
   "cell_type": "code",
   "execution_count": 650,
   "id": "55acd190",
   "metadata": {},
   "outputs": [],
   "source": [
    "bad_icd_old = df1.copy()\n",
    "bad_icd_old[\"icd_code\"] = bad_icd_old[\"icd_code\"].astype(str)\n",
    "bad_icd_old = bad_icd_old.loc[bad_icd_old[\"icd_code\"] != \"nan\"]\n",
    "bad_icd_old = bad_icd_old.loc[~bad_icd_old['icd_code'].isin(df2['icd_code'])].shape[0]"
   ]
  },
  {
   "cell_type": "markdown",
   "id": "c95259cb",
   "metadata": {},
   "source": [
    "#### Осталось 318 плохих значений, которые нужно удалить "
   ]
  },
  {
   "cell_type": "code",
   "execution_count": 651,
   "id": "e30bddfa",
   "metadata": {},
   "outputs": [
    {
     "name": "stdout",
     "output_type": "stream",
     "text": [
      "Было 2547 Стало 318\n"
     ]
    }
   ],
   "source": [
    "print(\"Было\",bad_icd_old, \"Стало\",del_icd_code.shape[0])"
   ]
  },
  {
   "cell_type": "markdown",
   "id": "bf380cb7",
   "metadata": {},
   "source": [
    "### Финальный датасет"
   ]
  },
  {
   "cell_type": "code",
   "execution_count": 652,
   "id": "11a93c7f",
   "metadata": {},
   "outputs": [],
   "source": [
    "df_clear = df2.loc[~df2['icd_code'].isin(del_icd_code)]"
   ]
  },
  {
   "cell_type": "markdown",
   "id": "0b469780",
   "metadata": {},
   "source": [
    "# Вводим необходимые категории"
   ]
  },
  {
   "cell_type": "markdown",
   "id": "d9ca9d9f",
   "metadata": {},
   "source": [
    "## Категория возраст/пол"
   ]
  },
  {
   "cell_type": "code",
   "execution_count": 653,
   "id": "5dcd249a",
   "metadata": {},
   "outputs": [
    {
     "name": "stderr",
     "output_type": "stream",
     "text": [
      "<ipython-input-653-87828969e04e>:1: SettingWithCopyWarning: \n",
      "A value is trying to be set on a copy of a slice from a DataFrame.\n",
      "Try using .loc[row_indexer,col_indexer] = value instead\n",
      "\n",
      "See the caveats in the documentation: https://pandas.pydata.org/pandas-docs/stable/user_guide/indexing.html#returning-a-view-versus-a-copy\n",
      "  df_clear[\"Возраст\"] = (pd.to_datetime(\"today\") - df_clear[\"date_of_birth\"]).astype('<m8[Y]')\n"
     ]
    }
   ],
   "source": [
    "df_clear[\"Возраст\"] = (pd.to_datetime(\"today\") - df_clear[\"date_of_birth\"]).astype('<m8[Y]')"
   ]
  },
  {
   "cell_type": "code",
   "execution_count": 654,
   "id": "c95ea127",
   "metadata": {},
   "outputs": [
    {
     "name": "stderr",
     "output_type": "stream",
     "text": [
      "<ipython-input-654-245a3d4e04f7>:1: SettingWithCopyWarning: \n",
      "A value is trying to be set on a copy of a slice from a DataFrame.\n",
      "Try using .loc[row_indexer,col_indexer] = value instead\n",
      "\n",
      "See the caveats in the documentation: https://pandas.pydata.org/pandas-docs/stable/user_guide/indexing.html#returning-a-view-versus-a-copy\n",
      "  df_clear[\"Категория_Воз.\"] = (df_clear[\"Возраст\"].apply(\n"
     ]
    }
   ],
   "source": [
    "df_clear[\"Категория_Воз.\"] = (df_clear[\"Возраст\"].apply(\n",
    "    lambda x: \"Дети\" if x < 18 else \"Взрослые\"\n",
    "    if x >= 18 and x < 60 else \"Пожилые\" if x >= 60 else \"0\"))"
   ]
  },
  {
   "cell_type": "code",
   "execution_count": 655,
   "id": "fa9ceb42",
   "metadata": {},
   "outputs": [
    {
     "name": "stderr",
     "output_type": "stream",
     "text": [
      "<ipython-input-655-4e63277240cd>:1: SettingWithCopyWarning: \n",
      "A value is trying to be set on a copy of a slice from a DataFrame.\n",
      "Try using .loc[row_indexer,col_indexer] = value instead\n",
      "\n",
      "See the caveats in the documentation: https://pandas.pydata.org/pandas-docs/stable/user_guide/indexing.html#returning-a-view-versus-a-copy\n",
      "  df_clear[\"dem_group\"] = df_clear[\"Категория_Воз.\"] + \"- \" + df_clear[\"gender\"]\n"
     ]
    }
   ],
   "source": [
    "df_clear[\"dem_group\"] = df_clear[\"Категория_Воз.\"] + \"- \" + df_clear[\"gender\"]"
   ]
  },
  {
   "cell_type": "markdown",
   "id": "b8c5bc78",
   "metadata": {},
   "source": [
    "## Категории временного промежутка услуг"
   ]
  },
  {
   "cell_type": "markdown",
   "id": "9922815a",
   "metadata": {},
   "source": [
    "### Рассчитываются категории, где 0 - группа с разницой между услугой и минимальной даты кейса менее 14 дней, Группа 1 - с промежутком 15-29 дней и т.д.\n"
   ]
  },
  {
   "cell_type": "markdown",
   "id": "850f27d0",
   "metadata": {},
   "source": [
    "#### Расчитываем минимальную дату кейса"
   ]
  },
  {
   "cell_type": "code",
   "execution_count": 656,
   "id": "ab8a84c3",
   "metadata": {},
   "outputs": [],
   "source": [
    "interval = df_clear.groupby([\"insured_id\",\"medical_provider_code\"], as_index = False)[\"date_of_service\"].transform(\n",
    "    lambda x : x.min())"
   ]
  },
  {
   "cell_type": "code",
   "execution_count": 657,
   "id": "be81ed14",
   "metadata": {},
   "outputs": [
    {
     "name": "stderr",
     "output_type": "stream",
     "text": [
      "<ipython-input-657-83bb7316e4bb>:1: SettingWithCopyWarning: \n",
      "A value is trying to be set on a copy of a slice from a DataFrame.\n",
      "Try using .loc[row_indexer,col_indexer] = value instead\n",
      "\n",
      "See the caveats in the documentation: https://pandas.pydata.org/pandas-docs/stable/user_guide/indexing.html#returning-a-view-versus-a-copy\n",
      "  df_clear[\"date_min\"] = pd.to_datetime(interval[\"date_of_service\"])\n"
     ]
    }
   ],
   "source": [
    "df_clear[\"date_min\"] = pd.to_datetime(interval[\"date_of_service\"])"
   ]
  },
  {
   "cell_type": "code",
   "execution_count": 658,
   "id": "dc260e51",
   "metadata": {},
   "outputs": [
    {
     "name": "stderr",
     "output_type": "stream",
     "text": [
      "<ipython-input-658-398ef4ad835b>:1: SettingWithCopyWarning: \n",
      "A value is trying to be set on a copy of a slice from a DataFrame.\n",
      "Try using .loc[row_indexer,col_indexer] = value instead\n",
      "\n",
      "See the caveats in the documentation: https://pandas.pydata.org/pandas-docs/stable/user_guide/indexing.html#returning-a-view-versus-a-copy\n",
      "  df_clear[\"Category_date\"] = ((((df_clear[\"date_of_service\"] - df_clear[\"date_min\"]).dt.days))//14.00001)\n"
     ]
    }
   ],
   "source": [
    "df_clear[\"Category_date\"] = ((((df_clear[\"date_of_service\"] - df_clear[\"date_min\"]).dt.days))//14.00001)"
   ]
  },
  {
   "cell_type": "code",
   "execution_count": 659,
   "id": "a242f77e",
   "metadata": {},
   "outputs": [
    {
     "name": "stderr",
     "output_type": "stream",
     "text": [
      "<ipython-input-659-5eb38c68794d>:1: SettingWithCopyWarning: \n",
      "A value is trying to be set on a copy of a slice from a DataFrame.\n",
      "Try using .loc[row_indexer,col_indexer] = value instead\n",
      "\n",
      "See the caveats in the documentation: https://pandas.pydata.org/pandas-docs/stable/user_guide/indexing.html#returning-a-view-versus-a-copy\n",
      "  df_clear[\"days_after_first\"] = (df_clear[\"date_of_service\"] - df_clear[\"date_min\"]).dt.days\n"
     ]
    }
   ],
   "source": [
    "df_clear[\"days_after_first\"] = (df_clear[\"date_of_service\"] - df_clear[\"date_min\"]).dt.days"
   ]
  },
  {
   "cell_type": "markdown",
   "id": "cdf1cbe2",
   "metadata": {},
   "source": [
    "## Функция позволяющая собирать необходимые группы"
   ]
  },
  {
   "cell_type": "code",
   "execution_count": 789,
   "id": "98ea67d8",
   "metadata": {},
   "outputs": [
    {
     "name": "stderr",
     "output_type": "stream",
     "text": [
      "<ipython-input-789-ae0970f86c3f>:1: SettingWithCopyWarning: \n",
      "A value is trying to be set on a copy of a slice from a DataFrame.\n",
      "Try using .loc[row_indexer,col_indexer] = value instead\n",
      "\n",
      "See the caveats in the documentation: https://pandas.pydata.org/pandas-docs/stable/user_guide/indexing.html#returning-a-view-versus-a-copy\n",
      "  df_clear[\"insured_id_save\"] = df_clear[\"insured_id\"]\n"
     ]
    }
   ],
   "source": [
    "df_clear[\"insured_id_save\"] = df_clear[\"insured_id\"]"
   ]
  },
  {
   "cell_type": "code",
   "execution_count": 660,
   "id": "2353dd99",
   "metadata": {},
   "outputs": [],
   "source": [
    "def task_1_both(x):\n",
    "    \n",
    "    result = df_clear.groupby([\"insured_id\",\"medical_provider_code\",\"Category_date\", x], as_index = False)\\\n",
    "    .agg({\"service_quantity\":\"sum\", \"service_amount\" : \"sum\", \"days_after_first\" : \"mean\"})\\\n",
    "    .groupby(x).agg({x:[(\"Количество кейсов\",\"count\")], \"service_quantity\" : \"sum\",\n",
    "                     \"service_amount\" : \"sum\", \"days_after_first\" : \"mean\"})\\\n",
    "    .sort_values(by = [(x, \"Количество кейсов\")], ascending = False)\n",
    "    return result\n"
   ]
  },
  {
   "cell_type": "code",
   "execution_count": 667,
   "id": "91ee1d48",
   "metadata": {},
   "outputs": [],
   "source": [
    "def task_1_first(x):\n",
    "    \n",
    "    result = df_clear.groupby([\"insured_id\",\"medical_provider_code\", \"Category_date\", x], as_index = False)\\\n",
    "    .agg({\"service_quantity\":\"sum\", \"service_amount\" : \"sum\", \"days_after_first\" : \"mean\"})\n",
    "    return result"
   ]
  },
  {
   "cell_type": "code",
   "execution_count": 668,
   "id": "f9028aff",
   "metadata": {},
   "outputs": [],
   "source": [
    "def task_2_both(x):\n",
    "    \n",
    "    result = df_clear.groupby([\"insured_id\",\"medical_provider_code\",\"date_of_service\", x], as_index = False)\\\n",
    "    .agg({\"service_quantity\":\"sum\", \"service_amount\" : \"sum\", \"days_after_first\" : \"mean\"})\\\n",
    "    .groupby(x).agg({x:[(\"Количество визитов\",\"count\")], \"service_quantity\" : \"sum\",\n",
    "                     \"service_amount\" : \"sum\", \"days_after_first\" : \"mean\"})\\\n",
    "    .sort_values(by = [(x, \"Количество визитов\"), (\"service_amount\", \"sum\"), (\"service_quantity\", \"sum\")], ascending = False)\n",
    "    return result"
   ]
  },
  {
   "cell_type": "code",
   "execution_count": 665,
   "id": "ca248b94",
   "metadata": {},
   "outputs": [],
   "source": [
    "def task_2_first(x):\n",
    "    result = df_clear.groupby([\"insured_id\",\"medical_provider_code\",\"date_of_service\", x], as_index = False)\\\n",
    "    .agg({\"service_quantity\":\"sum\", \"service_amount\" : \"sum\", \"days_after_first\" : \"mean\"})\n",
    "    return result"
   ]
  },
  {
   "cell_type": "code",
   "execution_count": 666,
   "id": "d0341d6f",
   "metadata": {},
   "outputs": [],
   "source": [
    "def task_3_both(x):\n",
    "    result = df_clear.groupby([\"insured_id\",\"medical_provider_code\", \"Category_date\",x], as_index = False) \\\n",
    ".agg({\"service_quantity\":\"sum\",\"date_of_service\": lambda x: (max(x) - min(x)).days, \"service_amount\" : \"sum\",\n",
    "     \"days_after_first\" : \"mean\"})\\\n",
    ".groupby(x).agg({\"date_of_service\":\"mean\", \"days_after_first\" : \"mean\",\"service_quantity\" : \"sum\",\n",
    "                            x:[(\"Количество кейсов\",\"count\")]})\n",
    "    return result"
   ]
  },
  {
   "cell_type": "code",
   "execution_count": 664,
   "id": "cadc50cd",
   "metadata": {},
   "outputs": [],
   "source": [
    "def task_4_both(x):\n",
    "    result = df_clear\\\n",
    "    .groupby([\"insured_id\",\"medical_provider_code\", \"Category_date\",\"date_of_service\",x], as_index = False)\\\n",
    "    .agg(услуги = (\"service_quantity\",\"sum\"), оплата = (\"service_amount\",\"sum\"), дни = (\"days_after_first\",\"mean\"))\\\n",
    "    .groupby([\"insured_id\",\"medical_provider_code\", \"Category_date\",x], as_index = False)\\\n",
    "    .agg(Услуги = (\"услуги\",\"sum\"), Оплата = ('оплата', 'sum'), Визиты = ('оплата', \"count\"),Дни = (\"дни\",\"mean\"))\\\n",
    "    .groupby(x)[\"Визиты\"]\\\n",
    "    .agg([(\"Визиты\", \"sum\"), (\"Кейсы\", \"count\"), (\"Разница\", lambda x: x.sum()/x.count())])\n",
    "    \n",
    "\n",
    "    return result"
   ]
  },
  {
   "cell_type": "markdown",
   "id": "aa980da7",
   "metadata": {},
   "source": [
    "## Категории моды заболеваний "
   ]
  },
  {
   "cell_type": "markdown",
   "id": "7eda33e8",
   "metadata": {},
   "source": [
    "### Сначала вычисляется мода диагнозов для кейса, после категории моды добавляется в датафрейм"
   ]
  },
  {
   "cell_type": "code",
   "execution_count": 669,
   "id": "37c65f07",
   "metadata": {},
   "outputs": [
    {
     "name": "stderr",
     "output_type": "stream",
     "text": [
      "<ipython-input-669-a916269ca7fb>:1: SettingWithCopyWarning: \n",
      "A value is trying to be set on a copy of a slice from a DataFrame.\n",
      "Try using .loc[row_indexer,col_indexer] = value instead\n",
      "\n",
      "See the caveats in the documentation: https://pandas.pydata.org/pandas-docs/stable/user_guide/indexing.html#returning-a-view-versus-a-copy\n",
      "  df_clear[\"icd_category_mode\"] = df_clear.groupby([\"insured_id\",\"medical_provider_code\", \"Category_date\"],\\\n"
     ]
    }
   ],
   "source": [
    "df_clear[\"icd_category_mode\"] = df_clear.groupby([\"insured_id\",\"medical_provider_code\", \"Category_date\"],\\\n",
    "            as_index = False)[\"icd_code\"].transform(lambda x: pd.Series.mode(x)[0]).apply(lambda x: x.str[0])\n"
   ]
  },
  {
   "cell_type": "markdown",
   "id": "9fd0dd36",
   "metadata": {},
   "source": [
    "# Задание 1"
   ]
  },
  {
   "cell_type": "markdown",
   "id": "cbc58aa3",
   "metadata": {},
   "source": [
    "## Общее количество медицинских кейсов"
   ]
  },
  {
   "cell_type": "code",
   "execution_count": 672,
   "id": "0a95173c",
   "metadata": {},
   "outputs": [],
   "source": [
    "task1_1 = df_clear.groupby([\"insured_id\",\"medical_provider_code\",\"Category_date\"], as_index = False)\\\n",
    "    .agg({\"service_quantity\":\"sum\", \"service_amount\" : \"sum\", \"days_after_first\" : \"mean\"}).shape[0]"
   ]
  },
  {
   "cell_type": "code",
   "execution_count": 673,
   "id": "0a781bb9",
   "metadata": {},
   "outputs": [
    {
     "name": "stdout",
     "output_type": "stream",
     "text": [
      "Количество медицинских кейсов - 8829\n"
     ]
    }
   ],
   "source": [
    "print(\"Количество медицинских кейсов -\",task1_1)"
   ]
  },
  {
   "cell_type": "markdown",
   "id": "25495de2",
   "metadata": {},
   "source": [
    "# Функция создающая все нужные таблицы"
   ]
  },
  {
   "cell_type": "code",
   "execution_count": 682,
   "id": "2f74d30d",
   "metadata": {},
   "outputs": [],
   "source": [
    "tables = []\n",
    "for i in [\"employer_id\",\"dem_group\",\"icd_category_mode\"]:\n",
    "    tables.append(task_1_both(i).head(10))"
   ]
  },
  {
   "cell_type": "markdown",
   "id": "97712cb3",
   "metadata": {},
   "source": [
    "## Для топ 10 страхователей"
   ]
  },
  {
   "cell_type": "code",
   "execution_count": 692,
   "id": "fb5d957b",
   "metadata": {},
   "outputs": [
    {
     "name": "stdout",
     "output_type": "stream",
     "text": [
      "                  employer_id service_quantity service_amount days_after_first\n",
      "            Количество кейсов              sum            sum             mean\n",
      "employer_id                                                                   \n",
      "EMP-83-3688               468              693      605758.80         1.486930\n",
      "EMP-23-3776               369              785      655136.40         1.417400\n",
      "EMP-26-2147               332              561      696552.00         2.944779\n",
      "EMP-59-1698               311              767      766980.08         2.111270\n",
      "EMP-68-3804               180              421      376282.25         1.472468\n",
      "EMP-55-1386               173              394      361574.11         2.337677\n",
      "EMP-7-3983                141              289      283086.00         0.838279\n",
      "EMP-24-3516               134              276      285113.10         2.227519\n",
      "EMP-33-1368               129              315      252792.05         2.018549\n",
      "EMP-43-2003               113              241      235780.40         7.553677\n"
     ]
    }
   ],
   "source": [
    "task_1_2 = tables[0]\n",
    "print(tables[0])"
   ]
  },
  {
   "cell_type": "markdown",
   "id": "9e72aa6f",
   "metadata": {},
   "source": [
    "# График сравнения количества кейсов и услуг по страхователям"
   ]
  },
  {
   "cell_type": "code",
   "execution_count": 693,
   "id": "41d2c66e",
   "metadata": {},
   "outputs": [],
   "source": [
    "x_index = np.arange(0,30,3)\n",
    "size = 1"
   ]
  },
  {
   "cell_type": "code",
   "execution_count": 698,
   "id": "21746f14",
   "metadata": {},
   "outputs": [
    {
     "data": {
      "image/png": "[encoded data removed]",
      "text/plain": [
       "<Figure size 720x504 with 1 Axes>"
      ]
     },
     "metadata": {
      "needs_background": "light"
     },
     "output_type": "display_data"
    }
   ],
   "source": [
    "fig, ax = plt.subplots()\n",
    "plt.axis([(x_index[0]-2*size),1000,(x_index[0]-2*size),(x_index[-1]+2*size)])\n",
    "size = 1\n",
    "plt.xlabel(\"Количество\")\n",
    "plt.ylabel(\"Страховая\")\n",
    "ax.barh(x_index - 0.5 * size,  task_1_2[\"employer_id\"][\"Количество кейсов\"].values, size, color = 'moccasin', alpha = 1,\n",
    "        label='Количество кейсов')\n",
    "ax.barh(x_index + 0.5 * size, list(task_1_2[\"service_quantity\"][\"sum\"].values), size,color = 'lightseagreen',label='Количество услуг')\n",
    "plt.legend(loc='best')\n",
    "plt.yticks(x_index,task_1_2[\"employer_id\"].index.values)\n",
    "fig.set_figwidth(10)\n",
    "fig.set_figheight(7)\n",
    "plt.savefig('кейсы и услуги.png')\n",
    "plt.show()"
   ]
  },
  {
   "cell_type": "markdown",
   "id": "ec28e410",
   "metadata": {},
   "source": [
    "## Группа пол/возраст"
   ]
  },
  {
   "cell_type": "code",
   "execution_count": 702,
   "id": "bc67f53c",
   "metadata": {},
   "outputs": [],
   "source": [
    "task1_3 = tables[1]"
   ]
  },
  {
   "cell_type": "code",
   "execution_count": 704,
   "id": "8e1f3be2",
   "metadata": {},
   "outputs": [
    {
     "name": "stdout",
     "output_type": "stream",
     "text": [
      "                    dem_group service_quantity service_amount days_after_first\n",
      "            Количество кейсов              sum            sum             mean\n",
      "dem_group                                                                     \n",
      "Взрослые- Ж              4823            11343    10328309.52         2.312618\n",
      "Взрослые- М              2456             5819     5190261.60         2.136733\n",
      "Дети- Ж                   518             1033     1121746.65         3.048623\n",
      "Дети- М                   518              916     1017350.38         2.662677\n",
      "Пожилые- Ж                326              746      723817.41         3.059834\n",
      "Пожилые- М                188              454      376956.47         1.780805\n"
     ]
    }
   ],
   "source": [
    "print(task1_3)"
   ]
  },
  {
   "cell_type": "markdown",
   "id": "fb043e1a",
   "metadata": {},
   "source": [
    "## График показывает среднее количество дней от первого визита до следующих"
   ]
  },
  {
   "cell_type": "code",
   "execution_count": 707,
   "id": "56edeab1",
   "metadata": {},
   "outputs": [
    {
     "data": {
      "image/png": "[encoded data removed]",
      "text/plain": [
       "<Figure size 720x360 with 1 Axes>"
      ]
     },
     "metadata": {
      "needs_background": "light"
     },
     "output_type": "display_data"
    }
   ],
   "source": [
    "fig, ax = plt.subplots()\n",
    "ax.bar(task_both(\"dem_group\").index,\n",
    "        task_both(\"dem_group\")[\"days_after_first\"][\"mean\"], color = \"lightcoral\")\n",
    "plt.xlabel(\"Категория\")\n",
    "plt.ylabel(\"Средний промежуток от первого визита\")\n",
    "ax.set_title(\"Средний количество дней от первого визита\")\n",
    "fig.set_figwidth(10)\n",
    "fig.set_figheight(5)\n",
    "plt.show()\n"
   ]
  },
  {
   "cell_type": "markdown",
   "id": "02163fb6",
   "metadata": {},
   "source": [
    "## График показывает связь между повторным посещением и возрастом"
   ]
  },
  {
   "cell_type": "code",
   "execution_count": 708,
   "id": "e6d2ba9f",
   "metadata": {},
   "outputs": [],
   "source": [
    "corr_age = df_clear.groupby([\"insured_id\"]).agg({\"days_after_first\":\"mean\",\"Возраст\":\"mean\"})"
   ]
  },
  {
   "cell_type": "code",
   "execution_count": null,
   "id": "2bfbe1d4",
   "metadata": {},
   "outputs": [],
   "source": [
    "('o', 'v', '^', '<', '>', '8', 's', 'p', '*', 'h', 'H', 'D', 'd', 'P', 'X')\n",
    "fillstyles = ('full', 'left', 'right', 'bottom', 'top', 'none')"
   ]
  },
  {
   "cell_type": "code",
   "execution_count": 781,
   "id": "100af5db",
   "metadata": {},
   "outputs": [
    {
     "data": {
      "image/png": "[encoded data removed]",
      "text/plain": [
       "<Figure size 576x432 with 1 Axes>"
      ]
     },
     "metadata": {
      "needs_background": "light"
     },
     "output_type": "display_data"
    }
   ],
   "source": [
    "fig, ax = plt.subplots()\n",
    "plt.axis([0,60,0,30])\n",
    "ax.scatter(corr_age[\"Возраст\"].values,corr_age[\"days_after_first\"].values, marker = 'o',\n",
    "            color = \"plum\", label = \"Скорость возвращения\", linewidths=0.1, alpha= 1)\n",
    "plt.xlabel(\"Возраст\")\n",
    "plt.ylabel(\"Средний промежуток от первого визита\")\n",
    "fig.set_figwidth(8)\n",
    "fig.set_figheight(6)\n",
    "ax.set_title(\"Средний количество дней от первого визита\")\n",
    "plt.legend(loc='best')\n",
    "plt.show()"
   ]
  },
  {
   "cell_type": "markdown",
   "id": "1be15a39",
   "metadata": {},
   "source": [
    "## Категория заболеваний"
   ]
  },
  {
   "cell_type": "code",
   "execution_count": 782,
   "id": "d8d44d2c",
   "metadata": {},
   "outputs": [],
   "source": [
    "task2_4 = tables[2]"
   ]
  },
  {
   "cell_type": "code",
   "execution_count": 784,
   "id": "fda1ba2f",
   "metadata": {},
   "outputs": [
    {
     "name": "stdout",
     "output_type": "stream",
     "text": [
      "                  icd_category_mode service_quantity service_amount days_after_first\n",
      "                  Количество кейсов              sum            sum             mean\n",
      "icd_category_mode                                                                   \n",
      "J                              1903             3420     3295179.81         1.982372\n",
      "K                              1326             4798     3470572.47         2.400714\n",
      "N                              1142             2001     2171176.90         2.181050\n",
      "M                               992             2031     2306936.23         3.097402\n",
      "I                               514             1292     1175094.25         2.171711\n",
      "H                               487             1052     1052703.88         1.708996\n",
      "E                               420             1140      990046.53         2.261838\n",
      "Z                               343              570      489391.55         3.562405\n",
      "К                               326             1207      809220.30         0.921928\n",
      "D                               272              575      617974.02         1.909664\n"
     ]
    }
   ],
   "source": [
    "print(task2_4)"
   ]
  },
  {
   "cell_type": "markdown",
   "id": "c546351f",
   "metadata": {},
   "source": [
    "# Задание 2"
   ]
  },
  {
   "cell_type": "markdown",
   "id": "d5f2348f",
   "metadata": {},
   "source": [
    "## Общее количество визитов"
   ]
  },
  {
   "cell_type": "code",
   "execution_count": 799,
   "id": "2a205d6f",
   "metadata": {},
   "outputs": [],
   "source": [
    "tables2 = []\n",
    "for i in [\"employer_id\",\"dem_group\",\"icd_category_mode\"]:\n",
    "    tables2.append(task_2_both(i).head(10))"
   ]
  },
  {
   "cell_type": "code",
   "execution_count": 802,
   "id": "4a4c7419",
   "metadata": {},
   "outputs": [],
   "source": [
    "task2_1 = df_clear.groupby([\"insured_id\",\"medical_provider_code\",\"date_of_service\"], as_index = False)\\\n",
    "    .agg({\"service_quantity\":\"sum\", \"service_amount\" : \"sum\", \"days_after_first\" : \"mean\"}).shape[0]"
   ]
  },
  {
   "cell_type": "code",
   "execution_count": 803,
   "id": "b917f4e0",
   "metadata": {},
   "outputs": [
    {
     "name": "stdout",
     "output_type": "stream",
     "text": [
      "Общее количество визитов - 12293\n"
     ]
    }
   ],
   "source": [
    "print(\"Общее количество визитов -\", task2_1 )"
   ]
  },
  {
   "cell_type": "markdown",
   "id": "ece8c132",
   "metadata": {},
   "source": [
    "## Для топ 10 страхователей"
   ]
  },
  {
   "cell_type": "code",
   "execution_count": 804,
   "id": "d759f41e",
   "metadata": {},
   "outputs": [
    {
     "name": "stdout",
     "output_type": "stream",
     "text": [
      "                   employer_id service_quantity service_amount days_after_first\n",
      "            Количество визитов              sum            sum             mean\n",
      "employer_id                                                                    \n",
      "EMP-83-3688                617              693      605758.80         2.043760\n",
      "EMP-23-3776                471              785      655136.40         1.946921\n",
      "EMP-59-1698                429              767      766980.08         2.944056\n",
      "EMP-26-2147                415              561      696552.00         3.383133\n",
      "EMP-68-3804                244              421      376282.25         2.377049\n",
      "EMP-55-1386                231              394      361574.11         2.826840\n",
      "EMP-7-3983                 183              289      283086.00         1.568306\n",
      "EMP-43-2003                180              241      235780.40         7.872222\n",
      "EMP-24-3516                178              276      285113.10         3.016854\n",
      "EMP-33-1368                170              315      252792.05         2.505882\n"
     ]
    }
   ],
   "source": [
    "task2_2 = tables2[0]\n",
    "print(task2_2)"
   ]
  },
  {
   "cell_type": "markdown",
   "id": "2b7994e5",
   "metadata": {},
   "source": [
    "## Группа пол/возраст"
   ]
  },
  {
   "cell_type": "code",
   "execution_count": 805,
   "id": "03290d97",
   "metadata": {},
   "outputs": [
    {
     "name": "stdout",
     "output_type": "stream",
     "text": [
      "                     dem_group service_quantity service_amount days_after_first\n",
      "            Количество визитов              sum            sum             mean\n",
      "dem_group                                                                      \n",
      "Взрослые- Ж               6776            11343    10328309.52         2.997196\n",
      "Взрослые- М               3415             5819     5190261.60         2.904246\n",
      "Дети- Ж                    686             1033     1121746.65         3.336735\n",
      "Дети- М                    661              916     1017350.38         3.192133\n",
      "Пожилые- Ж                 478              746      723817.41         4.094142\n",
      "Пожилые- М                 277              454      376956.47         2.519856\n"
     ]
    }
   ],
   "source": [
    "task2_3 = tables2[1]\n",
    "print(task2_3)"
   ]
  },
  {
   "cell_type": "code",
   "execution_count": null,
   "id": "8c5eb5fa",
   "metadata": {},
   "outputs": [],
   "source": []
  },
  {
   "cell_type": "markdown",
   "id": "a8d02402",
   "metadata": {},
   "source": [
    "## График отражает распределение количества визитов и услуг по возрастным категориям"
   ]
  },
  {
   "cell_type": "markdown",
   "id": "c5a2b380",
   "metadata": {},
   "source": [
    "### На графике видно, что группы представлены в разном объеме, поэтому далее будет рассматриваться отношение этих показателей"
   ]
  },
  {
   "cell_type": "code",
   "execution_count": 89,
   "id": "5046e988",
   "metadata": {},
   "outputs": [],
   "source": [
    "x_index_visit = np.arange(0,30,5)"
   ]
  },
  {
   "cell_type": "code",
   "execution_count": 808,
   "id": "e53fb6c1",
   "metadata": {},
   "outputs": [
    {
     "data": {
      "image/png": "[encoded data removed]",
      "text/plain": [
       "<Figure size 720x432 with 1 Axes>"
      ]
     },
     "metadata": {
      "needs_background": "light"
     },
     "output_type": "display_data"
    }
   ],
   "source": [
    "fig, ax = plt.subplots()\n",
    "plt.axis([-3,28,0,10000])\n",
    "size = 1\n",
    "plt.xlabel(\"Категория\")\n",
    "plt.ylabel(\"Количество\")\n",
    "ax.bar(x_index_visit + 0.5 * size,  list(dem_visit[\"dem_group\"][\"Количество визитов\"].values), size,label='Количество визитов')\n",
    "ax.bar(x_index_visit - 0.5 * size, list(task_visit_both(\"dem_group\")[\"service_quantity\"][\"sum\"].values), size,color = 'lightseagreen',label='Количество услуг')\n",
    "plt.xticks(x_index_visit,dem_visit.index.values)\n",
    "plt.legend(loc='best')\n",
    "fig.set_figwidth(10)\n",
    "fig.set_figheight(6)\n",
    "plt.show()"
   ]
  },
  {
   "cell_type": "code",
   "execution_count": 809,
   "id": "d309067d",
   "metadata": {},
   "outputs": [],
   "source": [
    "grouped_visit_service = task_visit_1(\"dem_group\").groupby([\"insured_id\",\"dem_group\"]).agg({\"service_quantity\":\"sum\",\"insured_id\":\"count\"})"
   ]
  },
  {
   "cell_type": "code",
   "execution_count": 810,
   "id": "95d99118",
   "metadata": {},
   "outputs": [],
   "source": [
    "divided_visit_service = grouped_visit_service[\"service_quantity\"]/grouped_visit_service[\"insured_id\"]"
   ]
  },
  {
   "cell_type": "code",
   "execution_count": 811,
   "id": "811e711d",
   "metadata": {},
   "outputs": [],
   "source": [
    "divided_visit_service = divided_visit_service.groupby(\"dem_group\").mean()"
   ]
  },
  {
   "cell_type": "code",
   "execution_count": 813,
   "id": "af2b73b8",
   "metadata": {},
   "outputs": [
    {
     "data": {
      "image/png": "[encoded data removed]",
      "text/plain": [
       "<Figure size 720x432 with 1 Axes>"
      ]
     },
     "metadata": {
      "needs_background": "light"
     },
     "output_type": "display_data"
    }
   ],
   "source": [
    "fig, ax = plt.subplots()\n",
    "ax.bar(divided_visit_service.index,\n",
    "        divided_visit_service.values, color = \"salmon\")\n",
    "plt.xlabel(\"Категория\")\n",
    "plt.ylabel(\"Среднее количество услуг за один визит\")\n",
    "ax.set_title(\"Среднее количество услуг за один визит по категориям\")\n",
    "fig.set_figwidth(10)\n",
    "fig.set_figheight(6)\n",
    "plt.show()\n",
    "\n"
   ]
  },
  {
   "cell_type": "markdown",
   "id": "21a9608c",
   "metadata": {},
   "source": [
    "## Категория заболеваний"
   ]
  },
  {
   "cell_type": "code",
   "execution_count": 815,
   "id": "c7489822",
   "metadata": {},
   "outputs": [
    {
     "name": "stdout",
     "output_type": "stream",
     "text": [
      "                   icd_category_mode service_quantity service_amount days_after_first\n",
      "                  Количество визитов              sum            sum             mean\n",
      "icd_category_mode                                                                    \n",
      "J                               2557             3420     3295179.81         2.665624\n",
      "K                               1830             4798     3470572.47         2.945355\n",
      "M                               1627             2031     2306936.23         3.928089\n",
      "N                               1453             2001     2171176.90         2.657261\n",
      "I                                779             1292     1175094.25         3.283697\n",
      "H                                661             1052     1052703.88         2.311649\n",
      "E                                647             1140      990046.53         3.027821\n",
      "G                                417              605      617807.31         3.779376\n",
      "Z                                414              570      489391.55         3.615942\n",
      "К                                382             1207      809220.30         1.431937\n"
     ]
    }
   ],
   "source": [
    "task2_4 = tables2[2]\n",
    "print(task2_4)"
   ]
  },
  {
   "cell_type": "markdown",
   "id": "52a11aaa",
   "metadata": {},
   "source": [
    "# Задание 3"
   ]
  },
  {
   "cell_type": "markdown",
   "id": "2c9b1209",
   "metadata": {},
   "source": [
    "## общая средняя длительность кейса"
   ]
  },
  {
   "cell_type": "markdown",
   "id": "6edd50c5",
   "metadata": {},
   "source": [
    "## Графики показывающие изменения показателей относительно времени"
   ]
  },
  {
   "cell_type": "code",
   "execution_count": 206,
   "id": "3a9dc7dc",
   "metadata": {},
   "outputs": [],
   "source": [
    "len_all_table = df_clear.groupby([\"insured_id\",\"medical_provider_code\", \"Category_date\",\"insured_id_save\"], as_index = False) \\\n",
    ".agg({\"service_quantity\":\"sum\",\"date_of_service\": lambda x: (max(x) - min(x)).days, \"service_amount\" : \"sum\",\n",
    "     \"days_after_first\" : \"mean\"})\n",
    "\n",
    "day_popular = df_clear.groupby([\"insured_id\",\"medical_provider_code\", \"Category_date\",\"date_of_service\"], as_index = False)\\\n",
    ".agg({\"service_quantity\":\"sum\", \"service_amount\" : \"sum\",\n",
    "     \"days_after_first\" : \"mean\"}).groupby(\"days_after_first\")[\"insured_id\"].count()\n"
   ]
  },
  {
   "cell_type": "code",
   "execution_count": 825,
   "id": "2e64aa5f",
   "metadata": {},
   "outputs": [],
   "source": [
    "task3_1 = round(len_all_table[\"date_of_service\"].mean(),2)"
   ]
  },
  {
   "cell_type": "code",
   "execution_count": 826,
   "id": "32ec4ba9",
   "metadata": {},
   "outputs": [
    {
     "name": "stdout",
     "output_type": "stream",
     "text": [
      "Cредняя длительность кейса - 1.69 Дней\n"
     ]
    }
   ],
   "source": [
    "print(\"Cредняя длительность кейса -\", task3_1, \"Дней\")"
   ]
  },
  {
   "cell_type": "code",
   "execution_count": 818,
   "id": "82eded01",
   "metadata": {},
   "outputs": [
    {
     "data": {
      "image/png": "[encoded data removed]",
      "text/plain": [
       "<Figure size 504x432 with 1 Axes>"
      ]
     },
     "metadata": {
      "needs_background": "light"
     },
     "output_type": "display_data"
    }
   ],
   "source": [
    "fig, ax = plt.subplots()\n",
    "plt.axis([-1,15,0,100])\n",
    "plt.scatter(len_all_table[\"date_of_service\"].values,len_all_table[\"service_quantity\"].values,\n",
    "            color = \"plum\")\n",
    "plt.title(\"Поиск изменения количества услуг\\nот возрастания длинны кейся\")\n",
    "plt.xlabel(\"Длина кейса\")\n",
    "plt.ylabel(\"Количество услуг\")\n",
    "fig.set_figwidth(7)\n",
    "fig.set_figheight(6)\n",
    "plt.show()"
   ]
  },
  {
   "cell_type": "code",
   "execution_count": 819,
   "id": "8576c47a",
   "metadata": {},
   "outputs": [],
   "source": [
    "len_ser_quant = df_clear.groupby([\"days_after_first\"], as_index = False)[\"service_quantity\"].sum()"
   ]
  },
  {
   "cell_type": "code",
   "execution_count": 820,
   "id": "914bba2f",
   "metadata": {},
   "outputs": [
    {
     "data": {
      "image/png": "[encoded data removed]",
      "text/plain": [
       "<Figure size 432x288 with 1 Axes>"
      ]
     },
     "metadata": {
      "needs_background": "light"
     },
     "output_type": "display_data"
    }
   ],
   "source": [
    "plt.axis([1,30,-1,600])\n",
    "plt.plot(len_ser_quant[\"days_after_first\"].values,len_ser_quant[\"service_quantity\"].values,\n",
    "            color = \"plum\" )\n",
    "plt.title(\"Поиск связи между днем повторного визита\\nи количеством получаемых услуг\")\n",
    "plt.xlabel(\"день повторного визита\")\n",
    "plt.ylabel(\"Количество услуг\")\n",
    "plt.show()"
   ]
  },
  {
   "cell_type": "code",
   "execution_count": 821,
   "id": "0f95d9ec",
   "metadata": {},
   "outputs": [],
   "source": [
    "day_popular = df_clear.groupby([\"insured_id\",\"medical_provider_code\", \"Category_date\",\"date_of_service\"], as_index = False)\\\n",
    ".agg({\"service_quantity\":\"sum\", \"service_amount\" : \"sum\",\n",
    "     \"days_after_first\" : \"mean\"}).groupby(\"days_after_first\")[\"insured_id\"].count()"
   ]
  },
  {
   "cell_type": "code",
   "execution_count": 822,
   "id": "bd69975d",
   "metadata": {},
   "outputs": [
    {
     "data": {
      "image/png": "[encoded data removed]",
      "text/plain": [
       "<Figure size 432x288 with 1 Axes>"
      ]
     },
     "metadata": {
      "needs_background": "light"
     },
     "output_type": "display_data"
    }
   ],
   "source": [
    "plt.axis([1,30,-1,600])\n",
    "plt.plot(day_popular.index.values,day_popular.values,\n",
    "            color = \"plum\" )\n",
    "plt.title(\"Поиск связи между длинной кейса\\nи количеством визитов\")\n",
    "plt.xlabel(\"Длинна кейса\")\n",
    "plt.ylabel(\"Количество визитов\")\n",
    "plt.show()"
   ]
  },
  {
   "cell_type": "markdown",
   "id": "b2d50da1",
   "metadata": {},
   "source": [
    "## Для топ 10 страхователей"
   ]
  },
  {
   "cell_type": "code",
   "execution_count": 831,
   "id": "1096ada1",
   "metadata": {},
   "outputs": [],
   "source": [
    "tables3 = []\n",
    "for i in [\"employer_id\",\"dem_group\",\"icd_category_mode\"]:\n",
    "    tables3.append(task_3_both(i))"
   ]
  },
  {
   "cell_type": "code",
   "execution_count": 834,
   "id": "78c1f678",
   "metadata": {},
   "outputs": [
    {
     "name": "stdout",
     "output_type": "stream",
     "text": [
      "            date_of_service days_after_first service_quantity       employer_id\n",
      "                       mean             mean              sum Количество кейсов\n",
      "employer_id                                                                    \n",
      "EMP-43-2003        2.097345         7.553677              241               113\n",
      "EMP-24-3516        1.686567         2.227519              276               134\n",
      "EMP-83-3688        1.683761         1.486930              693               468\n",
      "EMP-59-1698        1.508039         2.111270              767               311\n",
      "EMP-55-1386        1.479769         2.337677              394               173\n",
      "EMP-33-1368        1.441860         2.018549              315               129\n",
      "EMP-26-2147        1.340361         2.944779              561               332\n",
      "EMP-68-3804        1.322222         1.472468              421               180\n",
      "EMP-23-3776        1.279133         1.417400              785               369\n",
      "EMP-7-3983         1.134752         0.838279              289               141\n"
     ]
    }
   ],
   "source": [
    "task3_2 = tables3[0].sort_values(by = [(\"employer_id\",\"Количество кейсов\")], ascending = False).head(10)\\\n",
    ".sort_values([(\"date_of_service\",\"mean\")], ascending = False)\n",
    "print(task3_2)"
   ]
  },
  {
   "cell_type": "markdown",
   "id": "aede7ade",
   "metadata": {},
   "source": [
    "## Группа пол/возраст"
   ]
  },
  {
   "cell_type": "code",
   "execution_count": 837,
   "id": "2fde97b3",
   "metadata": {},
   "outputs": [
    {
     "name": "stdout",
     "output_type": "stream",
     "text": [
      "            date_of_service days_after_first service_quantity         dem_group\n",
      "                       mean             mean              sum Количество кейсов\n",
      "dem_group                                                                      \n",
      "Взрослые- Ж        1.755546         2.312618            11343              4823\n",
      "Взрослые- М        1.678746         2.136733             5819              2456\n",
      "Дети- Ж            1.337838         3.048623             1033               518\n",
      "Дети- М            1.146718         2.662677              916               518\n",
      "Пожилые- Ж         1.993865         3.059834              746               326\n",
      "Пожилые- М         1.877660         1.780805              454               188\n"
     ]
    }
   ],
   "source": [
    "task3_3 = tables3[1]\n",
    "print(task3_3)"
   ]
  },
  {
   "cell_type": "markdown",
   "id": "7173ec5d",
   "metadata": {},
   "source": [
    "## Категория заболеваний"
   ]
  },
  {
   "cell_type": "code",
   "execution_count": 840,
   "id": "b33d62c5",
   "metadata": {},
   "outputs": [
    {
     "name": "stdout",
     "output_type": "stream",
     "text": [
      "                  date_of_service days_after_first service_quantity icd_category_mode\n",
      "                             mean             mean              sum Количество кейсов\n",
      "icd_category_mode                                                                    \n",
      "M                        2.503024         3.097402             2031               992\n",
      "I                        2.217899         2.171711             1292               514\n",
      "E                        2.183333         2.261838             1140               420\n",
      "D                        1.849265         1.909664              575               272\n",
      "K                        1.745098         2.400714             4798              1326\n",
      "H                        1.611910         1.708996             1052               487\n",
      "J                        1.388860         1.982372             3420              1903\n",
      "N                        1.338879         2.181050             2001              1142\n",
      "К                        1.113497         0.921928             1207               326\n",
      "Z                        0.816327         3.562405              570               343\n"
     ]
    }
   ],
   "source": [
    "task3_4 = tables3[2]\\\n",
    ".sort_values(by = [(\"icd_category_mode\",\"Количество кейсов\")], ascending = False).head(10)\\\n",
    ".sort_values([(\"date_of_service\",\"mean\")], ascending = False)\n",
    "print(task3_4)"
   ]
  },
  {
   "cell_type": "markdown",
   "id": "7c7853d9",
   "metadata": {},
   "source": [
    "# Задание 4"
   ]
  },
  {
   "cell_type": "markdown",
   "id": "8fc93a1d",
   "metadata": {},
   "source": [
    "## общая средняя количества визитов на один кейс"
   ]
  },
  {
   "cell_type": "code",
   "execution_count": 841,
   "id": "d1a74bde",
   "metadata": {},
   "outputs": [],
   "source": [
    "tables4 = []\n",
    "for i in [\"insured_id_save\",\"employer_id\",\"dem_group\",\"icd_category_mode\"]:\n",
    "    tables4.append(task_4_both(i))"
   ]
  },
  {
   "cell_type": "code",
   "execution_count": 845,
   "id": "fcd94908",
   "metadata": {},
   "outputs": [],
   "source": [
    "task4_1 = round(tables4[0][\"Разница\"].mean(),2)"
   ]
  },
  {
   "cell_type": "code",
   "execution_count": 846,
   "id": "5addfdec",
   "metadata": {},
   "outputs": [
    {
     "name": "stdout",
     "output_type": "stream",
     "text": [
      "Среднее количество визитов за один кейс = 1.37\n"
     ]
    }
   ],
   "source": [
    "print(\"Среднее количество визитов за один кейс =\", task4_1)\n",
    "      "
   ]
  },
  {
   "cell_type": "markdown",
   "id": "ec88e6cc",
   "metadata": {},
   "source": [
    "## Для топ 10 страхователей"
   ]
  },
  {
   "cell_type": "code",
   "execution_count": 852,
   "id": "dcf987ce",
   "metadata": {},
   "outputs": [
    {
     "name": "stdout",
     "output_type": "stream",
     "text": [
      "             Визиты  Кейсы   Разница\n",
      "employer_id                         \n",
      "EMP-43-2003     180    113  1.592920\n",
      "EMP-59-1698     429    311  1.379421\n",
      "EMP-68-3804     244    180  1.355556\n",
      "EMP-55-1386     231    173  1.335260\n",
      "EMP-24-3516     178    134  1.328358\n",
      "EMP-83-3688     617    468  1.318376\n",
      "EMP-33-1368     170    129  1.317829\n",
      "EMP-7-3983      183    141  1.297872\n",
      "EMP-23-3776     471    369  1.276423\n",
      "EMP-26-2147     415    332  1.250000\n"
     ]
    }
   ],
   "source": [
    "task4_2 = tables4[1]\\\n",
    ".sort_values(by = \"Визиты\", ascending = False).head(10)\\\n",
    ".sort_values(by = \"Разница\", ascending = False)\n",
    "print(task4_2)"
   ]
  },
  {
   "cell_type": "markdown",
   "id": "021f7946",
   "metadata": {},
   "source": [
    "## Группа пол/возраст"
   ]
  },
  {
   "cell_type": "code",
   "execution_count": 853,
   "id": "85ae4cb7",
   "metadata": {},
   "outputs": [
    {
     "name": "stdout",
     "output_type": "stream",
     "text": [
      "             Визиты  Кейсы   Разница\n",
      "dem_group                           \n",
      "Пожилые- М      277    188  1.473404\n",
      "Пожилые- Ж      478    326  1.466258\n",
      "Взрослые- Ж    6776   4823  1.404935\n",
      "Взрослые- М    3415   2456  1.390472\n",
      "Дети- Ж         686    518  1.324324\n",
      "Дети- М         661    518  1.276062\n"
     ]
    }
   ],
   "source": [
    "task4_3 = tables4[2]\\\n",
    ".sort_values(by = \"Визиты\", ascending = False).head(10)\\\n",
    ".sort_values(by = \"Разница\", ascending = False)\n",
    "print(task4_3)"
   ]
  },
  {
   "cell_type": "markdown",
   "id": "1fac53cb",
   "metadata": {},
   "source": [
    "## Категория заболеваний"
   ]
  },
  {
   "cell_type": "code",
   "execution_count": 854,
   "id": "6d86e909",
   "metadata": {},
   "outputs": [
    {
     "name": "stdout",
     "output_type": "stream",
     "text": [
      "                   Визиты  Кейсы   Разница\n",
      "icd_category_mode                         \n",
      "M                    1627    992  1.640121\n",
      "G                     417    266  1.567669\n",
      "E                     647    420  1.540476\n",
      "I                     779    514  1.515564\n",
      "K                    1830   1326  1.380090\n",
      "H                     661    487  1.357290\n",
      "J                    2557   1903  1.343668\n",
      "N                    1453   1142  1.272329\n",
      "Z                     414    343  1.206997\n",
      "К                     382    326  1.171779\n"
     ]
    }
   ],
   "source": [
    "task4_4 = tables4[3]\\\n",
    ".sort_values(by = \"Визиты\", ascending = False).head(10)\\\n",
    ".sort_values(by = \"Разница\", ascending = False)\n",
    "print(task4_4)"
   ]
  },
  {
   "cell_type": "markdown",
   "id": "ad37112a",
   "metadata": {},
   "source": [
    "# Задание 5"
   ]
  },
  {
   "cell_type": "markdown",
   "id": "653293a4",
   "metadata": {},
   "source": [
    "## общая средняя сумма выплат на один кейc"
   ]
  },
  {
   "cell_type": "code",
   "execution_count": 870,
   "id": "4eaa0b56",
   "metadata": {},
   "outputs": [],
   "source": [
    "tables5 = []\n",
    "for i in [\"employer_id\",\"dem_group\",\"icd_category_mode\"]:\n",
    "    tables5.append(task_1_both(i))"
   ]
  },
  {
   "cell_type": "code",
   "execution_count": 874,
   "id": "930c8aa4",
   "metadata": {},
   "outputs": [
    {
     "data": {
      "text/plain": [
       "2124.6394869181104"
      ]
     },
     "execution_count": 874,
     "metadata": {},
     "output_type": "execute_result"
    }
   ],
   "source": [
    "df_clear.groupby([\"insured_id\",\"medical_provider_code\",\"Category_date\"], as_index = False)\\\n",
    "    .agg({\"service_quantity\":\"sum\", \"service_amount\" : \"sum\", \"days_after_first\" : \"mean\"})[\"service_amount\"].mean()"
   ]
  },
  {
   "cell_type": "code",
   "execution_count": 869,
   "id": "0a0f4197",
   "metadata": {},
   "outputs": [
    {
     "name": "stdout",
     "output_type": "stream",
     "text": [
      "Средняя сумма выплат за один кейс - 2124.64\n"
     ]
    }
   ],
   "source": [
    "print(\"Средняя сумма выплат за один кейс -\",task5_1)"
   ]
  },
  {
   "cell_type": "markdown",
   "id": "f094ea03",
   "metadata": {},
   "source": [
    "## Для топ 10 страхователей"
   ]
  },
  {
   "cell_type": "code",
   "execution_count": 878,
   "id": "d19ff1fd",
   "metadata": {},
   "outputs": [
    {
     "name": "stdout",
     "output_type": "stream",
     "text": [
      "                  employer_id service_quantity service_amount days_after_first\n",
      "            Количество кейсов              sum            sum             mean\n",
      "employer_id                                                                   \n",
      "EMP-43-2003               113              241      235780.40         7.553677\n",
      "EMP-33-1368               129              315      252792.05         2.018549\n",
      "EMP-7-3983                141              289      283086.00         0.838279\n",
      "EMP-24-3516               134              276      285113.10         2.227519\n",
      "EMP-55-1386               173              394      361574.11         2.337677\n",
      "EMP-68-3804               180              421      376282.25         1.472468\n",
      "EMP-83-3688               468              693      605758.80         1.486930\n",
      "EMP-23-3776               369              785      655136.40         1.417400\n",
      "EMP-26-2147               332              561      696552.00         2.944779\n",
      "EMP-59-1698               311              767      766980.08         2.111270\n"
     ]
    }
   ],
   "source": [
    "task5_2 = tables5[0].head(10).sort_values(by = [(\"service_amount\",\"sum\")], ascending = True)\n",
    "print(task5_2)"
   ]
  },
  {
   "cell_type": "markdown",
   "id": "bcb552b6",
   "metadata": {},
   "source": [
    "## Группа пол/возраст"
   ]
  },
  {
   "cell_type": "code",
   "execution_count": 879,
   "id": "7f8b5737",
   "metadata": {},
   "outputs": [
    {
     "name": "stdout",
     "output_type": "stream",
     "text": [
      "                    dem_group service_quantity service_amount days_after_first\n",
      "            Количество кейсов              sum            sum             mean\n",
      "dem_group                                                                     \n",
      "Пожилые- М                188              454      376956.47         1.780805\n",
      "Пожилые- Ж                326              746      723817.41         3.059834\n",
      "Дети- М                   518              916     1017350.38         2.662677\n",
      "Дети- Ж                   518             1033     1121746.65         3.048623\n",
      "Взрослые- М              2456             5819     5190261.60         2.136733\n",
      "Взрослые- Ж              4823            11343    10328309.52         2.312618\n"
     ]
    }
   ],
   "source": [
    "tables5[1].head(10).sort_values(by = [(\"service_amount\",\"sum\")], ascending = True)\n",
    "print(task5_3)"
   ]
  },
  {
   "cell_type": "markdown",
   "id": "a1b5df9e",
   "metadata": {},
   "source": [
    "## Категория заболеваний"
   ]
  },
  {
   "cell_type": "code",
   "execution_count": 880,
   "id": "c31f781b",
   "metadata": {},
   "outputs": [
    {
     "name": "stdout",
     "output_type": "stream",
     "text": [
      "                  icd_category_mode service_quantity service_amount days_after_first\n",
      "                  Количество кейсов              sum            sum             mean\n",
      "icd_category_mode                                                                   \n",
      "Z                               343              570      489391.55         3.562405\n",
      "D                               272              575      617974.02         1.909664\n",
      "К                               326             1207      809220.30         0.921928\n",
      "E                               420             1140      990046.53         2.261838\n",
      "H                               487             1052     1052703.88         1.708996\n",
      "I                               514             1292     1175094.25         2.171711\n",
      "N                              1142             2001     2171176.90         2.181050\n",
      "M                               992             2031     2306936.23         3.097402\n",
      "J                              1903             3420     3295179.81         1.982372\n",
      "K                              1326             4798     3470572.47         2.400714\n"
     ]
    }
   ],
   "source": [
    "tables5[2].head(10).sort_values(by = [(\"service_amount\",\"sum\")], ascending = True)\n",
    "print(task5_4)"
   ]
  },
  {
   "cell_type": "markdown",
   "id": "c8905955",
   "metadata": {},
   "source": [
    "# Задание 6"
   ]
  },
  {
   "cell_type": "markdown",
   "id": "f3f9e7c9",
   "metadata": {},
   "source": [
    "## Общая средняя сумма выплат на один визит"
   ]
  },
  {
   "cell_type": "code",
   "execution_count": 594,
   "id": "708ae60c",
   "metadata": {},
   "outputs": [],
   "source": [
    "task6_1 = df_clear.groupby([\"insured_id\",\"medical_provider_code\",\"date_of_service\"], as_index = False)\\\n",
    "    .agg({\"service_quantity\":\"sum\", \"service_amount\" : \"sum\", \"days_after_first\" : \"mean\"})[\"service_amount\"].mean()"
   ]
  },
  {
   "cell_type": "code",
   "execution_count": 602,
   "id": "9a9a3cd7",
   "metadata": {},
   "outputs": [
    {
     "name": "stdout",
     "output_type": "stream",
     "text": [
      "Средняя сумма выплат за один визит - 1525.95\n"
     ]
    }
   ],
   "source": [
    "print(\"Средняя сумма выплат за один визит -\",round(task6_1,2))"
   ]
  },
  {
   "cell_type": "code",
   "execution_count": 881,
   "id": "7954cd7d",
   "metadata": {},
   "outputs": [],
   "source": [
    "tables6 = []\n",
    "for i in [\"employer_id\",\"dem_group\",\"icd_category_mode\"]:\n",
    "    tables6.append(task_2_both(i))"
   ]
  },
  {
   "cell_type": "markdown",
   "id": "227bae8f",
   "metadata": {},
   "source": [
    "## Для топ 10 страхователей"
   ]
  },
  {
   "cell_type": "code",
   "execution_count": 883,
   "id": "64fa4676",
   "metadata": {},
   "outputs": [
    {
     "name": "stdout",
     "output_type": "stream",
     "text": [
      "                   employer_id service_quantity service_amount days_after_first\n",
      "            Количество визитов              sum            sum             mean\n",
      "employer_id                                                                    \n",
      "EMP-43-2003                180              241      235780.40         7.872222\n",
      "EMP-33-1368                170              315      252792.05         2.505882\n",
      "EMP-7-3983                 183              289      283086.00         1.568306\n",
      "EMP-24-3516                178              276      285113.10         3.016854\n",
      "EMP-55-1386                231              394      361574.11         2.826840\n",
      "EMP-68-3804                244              421      376282.25         2.377049\n",
      "EMP-83-3688                617              693      605758.80         2.043760\n",
      "EMP-23-3776                471              785      655136.40         1.946921\n",
      "EMP-26-2147                415              561      696552.00         3.383133\n",
      "EMP-59-1698                429              767      766980.08         2.944056\n"
     ]
    }
   ],
   "source": [
    "task6_2 = tables6[0].head(10).sort_values(by = [(\"service_amount\",\"sum\")], ascending = True)\n",
    "print(task6_2)"
   ]
  },
  {
   "cell_type": "markdown",
   "id": "82827ad9",
   "metadata": {},
   "source": [
    "## Группа пол/возраст"
   ]
  },
  {
   "cell_type": "code",
   "execution_count": 884,
   "id": "da1ca7e5",
   "metadata": {},
   "outputs": [
    {
     "name": "stdout",
     "output_type": "stream",
     "text": [
      "                     dem_group service_quantity service_amount days_after_first\n",
      "            Количество визитов              sum            sum             mean\n",
      "dem_group                                                                      \n",
      "Пожилые- М                 277              454      376956.47         2.519856\n",
      "Пожилые- Ж                 478              746      723817.41         4.094142\n",
      "Дети- М                    661              916     1017350.38         3.192133\n",
      "Дети- Ж                    686             1033     1121746.65         3.336735\n",
      "Взрослые- М               3415             5819     5190261.60         2.904246\n",
      "Взрослые- Ж               6776            11343    10328309.52         2.997196\n"
     ]
    }
   ],
   "source": [
    "task6_3 = tables6[1].head(10).sort_values(by = [(\"service_amount\",\"sum\")], ascending = True)\n",
    "print(task6_3)"
   ]
  },
  {
   "cell_type": "markdown",
   "id": "8c6ef19a",
   "metadata": {},
   "source": [
    "## Категория заболеваний"
   ]
  },
  {
   "cell_type": "code",
   "execution_count": 886,
   "id": "f96bcbb4",
   "metadata": {},
   "outputs": [
    {
     "name": "stdout",
     "output_type": "stream",
     "text": [
      "                   icd_category_mode service_quantity service_amount days_after_first\n",
      "                  Количество визитов              sum            sum             mean\n",
      "icd_category_mode                                                                    \n",
      "Z                                414              570      489391.55         3.615942\n",
      "G                                417              605      617807.31         3.779376\n",
      "К                                382             1207      809220.30         1.431937\n",
      "E                                647             1140      990046.53         3.027821\n",
      "H                                661             1052     1052703.88         2.311649\n",
      "I                                779             1292     1175094.25         3.283697\n",
      "N                               1453             2001     2171176.90         2.657261\n",
      "M                               1627             2031     2306936.23         3.928089\n",
      "J                               2557             3420     3295179.81         2.665624\n",
      "K                               1830             4798     3470572.47         2.945355\n"
     ]
    }
   ],
   "source": [
    "task6_4 = tables6[2].head(10).sort_values(by = [(\"service_amount\",\"sum\")], ascending = True)\n",
    "print(task6_4)"
   ]
  },
  {
   "cell_type": "code",
   "execution_count": null,
   "id": "8dc759d1",
   "metadata": {},
   "outputs": [],
   "source": []
  }
 ],
 "metadata": {
  "kernelspec": {
   "display_name": "Python 3",
   "language": "python",
   "name": "python3"
  },
  "language_info": {
   "codemirror_mode": {
    "name": "ipython",
    "version": 3
   },
   "file_extension": ".py",
   "mimetype": "text/x-python",
   "name": "python",
   "nbconvert_exporter": "python",
   "pygments_lexer": "ipython3",
   "version": "3.8.8"
  }
 },
 "nbformat": 4,
 "nbformat_minor": 5
}
